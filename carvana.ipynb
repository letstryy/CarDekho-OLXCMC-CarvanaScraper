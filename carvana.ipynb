{
 "cells": [
  {
   "cell_type": "code",
   "execution_count": 1,
   "metadata": {},
   "outputs": [],
   "source": [
    "from selenium import webdriver\n",
    "from selenium.webdriver.common.keys import Keys\n",
    "from bs4 import BeautifulSoup as soup_\n",
    "import re\n",
    "import pandas as pd\n",
    "from tabulate import tabulate\n",
    "import os\n",
    "import time\n",
    "from datetime import datetime\n",
    "import string\n",
    "from selenium.webdriver.firefox.options import Options\n",
    "from selenium.webdriver.firefox.firefox_binary import FirefoxBinary\n",
    "from selenium.webdriver.support.ui import Select\n",
    "import random"
   ]
  },
  {
   "cell_type": "code",
   "execution_count": 2,
   "metadata": {},
   "outputs": [],
   "source": [
    "PROXY = \"##$%@@&\"\n",
    "binary = FirefoxBinary(r'C:\\Program Files (x86)\\Mozilla Firefox\\firefox.exe')\n",
    "chrome_options = webdriver.FirefoxOptions()\n",
    "chrome_options.add_argument('--proxy-server=%s' % PROXY)\n",
    "driver = webdriver.Firefox(executable_path = r'C:/Users/geckodriver.exe', firefox_binary = binary, options = chrome_options)\n",
    "url = \"https://www.carvana.com/cars\"\n",
    "driver.implicitly_wait(10)\n",
    "driver.get(url)\n",
    "vehicles = {\"url\": [], \"Year-Make\": [], \"Model\": [], \"Trim\": [], \"Price\": [], \"Odo\": []}"
   ]
  },
  {
   "cell_type": "code",
   "execution_count": 3,
   "metadata": {},
   "outputs": [],
   "source": [
    "try:\n",
    "    for i in range(0,1710):\n",
    "        url = \"https://www.carvana.com/cars?page=\"+str(i+1)\n",
    "        driver.get(url)\n",
    "        elems = driver.find_elements_by_xpath(\"//a[@href]\")      \n",
    "        my = driver.find_elements_by_class_name(\"year-make\")\n",
    "        model = driver.find_elements_by_class_name(\"model\")\n",
    "        trim = driver.find_elements_by_class_name(\"trim\")\n",
    "        price = driver.find_elements_by_class_name(\"price\")\n",
    "        odo = driver.find_elements_by_class_name(\"mileage\")\n",
    "\n",
    "        for i in elems:\n",
    "            try:\n",
    "                if 'vehicle/' in i.get_attribute(\"href\"):\n",
    "                    vehicles[\"url\"].append(i.get_attribute(\"href\"))\n",
    "                    df[\"url\"].append(i.get_attribute(\"href\"))\n",
    "            except:\n",
    "                pass\n",
    "\n",
    "        for i in my:\n",
    "            try:\n",
    "                vehicles[\"Year-Make\"].append(i.text)\n",
    "            except:\n",
    "                pass\n",
    "\n",
    "        for i in model:\n",
    "            try:\n",
    "                vehicles[\"Model\"].append(i.text)\n",
    "            except:\n",
    "                pass\n",
    "\n",
    "        for i in trim:\n",
    "            try:\n",
    "                vehicles[\"Trim\"].append(i.text)\n",
    "            except:\n",
    "                pass\n",
    "\n",
    "        for i in price:\n",
    "            try:\n",
    "                vehicles[\"Price\"].append(i.text)\n",
    "            except:\n",
    "                pass\n",
    "\n",
    "        for i in odo:\n",
    "            try:\n",
    "                vehicles[\"Odo\"].append(i.text)\n",
    "            except:\n",
    "                pass\n",
    "\n",
    "        time.sleep(10)\n",
    "\n",
    "except:\n",
    "    pass"
   ]
  },
  {
   "cell_type": "code",
   "execution_count": 4,
   "metadata": {},
   "outputs": [
    {
     "data": {
      "text/html": [
       "<div>\n",
       "<style scoped>\n",
       "    .dataframe tbody tr th:only-of-type {\n",
       "        vertical-align: middle;\n",
       "    }\n",
       "\n",
       "    .dataframe tbody tr th {\n",
       "        vertical-align: top;\n",
       "    }\n",
       "\n",
       "    .dataframe thead th {\n",
       "        text-align: right;\n",
       "    }\n",
       "</style>\n",
       "<table border=\"1\" class=\"dataframe\">\n",
       "  <thead>\n",
       "    <tr style=\"text-align: right;\">\n",
       "      <th></th>\n",
       "      <th>url</th>\n",
       "      <th>Year-Make</th>\n",
       "      <th>Model</th>\n",
       "      <th>Trim</th>\n",
       "      <th>Price</th>\n",
       "      <th>Odo</th>\n",
       "    </tr>\n",
       "  </thead>\n",
       "  <tbody>\n",
       "    <tr>\n",
       "      <th>0</th>\n",
       "      <td>https://www.carvana.com/vehicle/1868416</td>\n",
       "      <td>2020 Hyundai</td>\n",
       "      <td>Accent</td>\n",
       "      <td>SE</td>\n",
       "      <td>$21,590</td>\n",
       "      <td>3,644 miles</td>\n",
       "    </tr>\n",
       "    <tr>\n",
       "      <th>1</th>\n",
       "      <td>https://www.carvana.com/vehicle/1868348</td>\n",
       "      <td>2019 Hyundai</td>\n",
       "      <td>Sonata</td>\n",
       "      <td>SE</td>\n",
       "      <td>$22,990</td>\n",
       "      <td>17,524 miles</td>\n",
       "    </tr>\n",
       "    <tr>\n",
       "      <th>2</th>\n",
       "      <td>https://www.carvana.com/vehicle/1868260</td>\n",
       "      <td>2017 Toyota</td>\n",
       "      <td>Camry</td>\n",
       "      <td>SE</td>\n",
       "      <td>$20,990</td>\n",
       "      <td>38,091 miles</td>\n",
       "    </tr>\n",
       "    <tr>\n",
       "      <th>3</th>\n",
       "      <td>https://www.carvana.com/vehicle/1865901</td>\n",
       "      <td>2015 Toyota</td>\n",
       "      <td>Avalon</td>\n",
       "      <td>Limited</td>\n",
       "      <td>$24,590</td>\n",
       "      <td>46,646 miles</td>\n",
       "    </tr>\n",
       "    <tr>\n",
       "      <th>4</th>\n",
       "      <td>https://www.carvana.com/vehicle/1865666</td>\n",
       "      <td>2016 Mazda</td>\n",
       "      <td>CX-5</td>\n",
       "      <td>Touring</td>\n",
       "      <td>$22,990</td>\n",
       "      <td>39,220 miles</td>\n",
       "    </tr>\n",
       "  </tbody>\n",
       "</table>\n",
       "</div>"
      ],
      "text/plain": [
       "                                       url     Year-Make   Model     Trim  \\\n",
       "0  https://www.carvana.com/vehicle/1868416  2020 Hyundai  Accent       SE   \n",
       "1  https://www.carvana.com/vehicle/1868348  2019 Hyundai  Sonata       SE   \n",
       "2  https://www.carvana.com/vehicle/1868260   2017 Toyota   Camry       SE   \n",
       "3  https://www.carvana.com/vehicle/1865901   2015 Toyota  Avalon  Limited   \n",
       "4  https://www.carvana.com/vehicle/1865666    2016 Mazda    CX-5  Touring   \n",
       "\n",
       "     Price           Odo  \n",
       "0  $21,590   3,644 miles  \n",
       "1  $22,990  17,524 miles  \n",
       "2  $20,990  38,091 miles  \n",
       "3  $24,590  46,646 miles  \n",
       "4  $22,990  39,220 miles  "
      ]
     },
     "execution_count": 4,
     "metadata": {},
     "output_type": "execute_result"
    }
   ],
   "source": [
    "data = pd.DataFrame(vehicles)\n",
    "#data.to_csv('carvana_data.csv',index=False)\n",
    "data.head()"
   ]
  },
  {
   "cell_type": "code",
   "execution_count": 5,
   "metadata": {},
   "outputs": [
    {
     "name": "stdout",
     "output_type": "stream",
     "text": [
      "26-06-2021\n"
     ]
    }
   ],
   "source": [
    "dt = datetime.now()\n",
    "dt = dt.strftime(\"%d-%m-%Y\")\n",
    "print(dt)"
   ]
  },
  {
   "cell_type": "code",
   "execution_count": 3,
   "metadata": {},
   "outputs": [
    {
     "data": {
      "text/plain": [
       "(3423, 7)"
      ]
     },
     "execution_count": 3,
     "metadata": {},
     "output_type": "execute_result"
    }
   ],
   "source": [
    "data = pd.read_csv('carvana_data_ny.csv')\n",
    "data.shape"
   ]
  },
  {
   "cell_type": "code",
   "execution_count": 4,
   "metadata": {},
   "outputs": [],
   "source": [
    "pincode = 10001\n",
    "df = pd.DataFrame()"
   ]
  },
  {
   "cell_type": "code",
   "execution_count": null,
   "metadata": {},
   "outputs": [],
   "source": [
    "for i in data['url']:\n",
    "    vehicles = {\"url\": [], \"delivery_date\": [], \"pickup_location\": []}\n",
    "    time.sleep(1)\n",
    "    try:\n",
    "        vehicles[\"url\"].append(i)\n",
    "        driver.get(i)\n",
    "        driver.find_element_by_xpath(\"//p[contains(text(),'DELIVERY & PICKUP')]\").click()\n",
    "        inputElement = driver.find_element_by_id(\"geoModalInput\").clear()\n",
    "        inputElement = driver.find_element_by_id(\"geoModalInput\")\n",
    "        inputElement.send_keys(pincode)\n",
    "        inputElement = driver.find_element_by_xpath('//button[contains(text(), \"Go\")]').click()\n",
    "        delivery_date = driver.find_elements_by_css_selector('span.fskpQx:nth-child(1)')\n",
    "        pickup_location = driver.find_elements_by_css_selector('.GeolocationModalstyles__PickupSection-g4v3t8-15 > p:nth-child(2)')\n",
    "     \n",
    "        for i in delivery_date:\n",
    "            if len(str(i.text)) > 0:  \n",
    "                vehicles[\"delivery_date\"].append(i.text)                          \n",
    "            else:\n",
    "                print('dd')\n",
    "                vehicles[\"delivery_date\"].append('none')\n",
    "                           \n",
    "        for i in pickup_location:\n",
    "            if len(str(i.text)) > 0:\n",
    "                vehicles[\"pickup_location\"].append(i.text)         \n",
    "            else:\n",
    "                print('pl')\n",
    "                vehicles[\"pickup_location\"].append('none') \n",
    "                     \n",
    "        time.sleep(2)\n",
    "        df = df.append(vehicles, ignore_index = True)\n",
    "    \n",
    "    except Exception as e:\n",
    "        vehicles[\"delivery_date\"].append('none')\n",
    "        vehicles[\"pickup_location\"].append('none')\n",
    "        pass  "
   ]
  },
  {
   "cell_type": "code",
   "execution_count": null,
   "metadata": {},
   "outputs": [],
   "source": [
    "df.to_csv('carvana_ny_tat.csv',index=False)"
   ]
  },
  {
   "cell_type": "code",
   "execution_count": null,
   "metadata": {},
   "outputs": [],
   "source": []
  }
 ],
 "metadata": {
  "kernelspec": {
   "display_name": "Python 3",
   "language": "python",
   "name": "python3"
  },
  "language_info": {
   "codemirror_mode": {
    "name": "ipython",
    "version": 3
   },
   "file_extension": ".py",
   "mimetype": "text/x-python",
   "name": "python",
   "nbconvert_exporter": "python",
   "pygments_lexer": "ipython3",
   "version": "3.8.1"
  }
 },
 "nbformat": 4,
 "nbformat_minor": 4
}
