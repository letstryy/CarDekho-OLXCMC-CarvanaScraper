{
 "cells": [
  {
   "cell_type": "code",
   "execution_count": 1,
   "metadata": {},
   "outputs": [],
   "source": [
    "from selenium import webdriver\n",
    "from selenium.webdriver.common.keys import Keys\n",
    "from bs4 import BeautifulSoup as soup_\n",
    "import re\n",
    "import pandas as pd\n",
    "from tabulate import tabulate\n",
    "import os\n",
    "import time\n",
    "from selenium.webdriver.firefox.options import Options\n",
    "from selenium.webdriver.firefox.firefox_binary import FirefoxBinary\n",
    "from selenium.webdriver.support.ui import Select\n",
    "import random\n",
    "import string"
   ]
  },
  {
   "cell_type": "code",
   "execution_count": 2,
   "metadata": {},
   "outputs": [],
   "source": [
    "from fuzzywuzzy import fuzz \n",
    "from fuzzywuzzy import process"
   ]
  },
  {
   "cell_type": "code",
   "execution_count": 3,
   "metadata": {},
   "outputs": [],
   "source": [
    "df_mmv_means_raw = pd.read_csv('file.csv')"
   ]
  },
  {
   "cell_type": "code",
   "execution_count": 4,
   "metadata": {},
   "outputs": [],
   "source": [
    "def state_name_conv(state_id):\n",
    "    if state_id == 1:\n",
    "        return 'Delhi'\n",
    "    elif state_id == 10:\n",
    "        return 'Gujarat'\n",
    "    elif state_id == 14:\n",
    "        return 'Maharashtra'\n",
    "    elif state_id == 18:\n",
    "        return 'Andhra Pradesh'\n",
    "    elif state_id == 19:\n",
    "        return 'Karnataka'\n",
    "    elif state_id == 20:\n",
    "        return 'Tamil Nadu'"
   ]
  },
  {
   "cell_type": "code",
   "execution_count": 5,
   "metadata": {},
   "outputs": [],
   "source": [
    "def Kms_conv(Kms):\n",
    "    if Kms <=5000:\n",
    "        return '0 - 5,000'\n",
    "    elif Kms <= 10000:\n",
    "        return '5,000 - 10,000'\n",
    "    elif Kms <= 20000:\n",
    "        return '10,000 - 20,000'\n",
    "    elif Kms <= 30000:\n",
    "        return '20,000 - 30,000'\n",
    "    elif Kms <= 40000:\n",
    "        return '30,000 - 40,000'\n",
    "    elif Kms <= 50000:\n",
    "        return '40,000 - 50,000'\n",
    "    elif Kms <= 60000:\n",
    "        return '50,000 - 60,000'\n",
    "    elif Kms <= 70000:\n",
    "        return '60,000 - 70,000'\n",
    "    elif Kms <= 80000:\n",
    "        return '70,000 - 80,000'\n",
    "    elif Kms <= 90000:\n",
    "        return '80,000 - 90,000'\n",
    "    elif Kms <= 100000:\n",
    "        return '90,000 - 100,000'\n",
    "    elif Kms <= 125000:\n",
    "        return '100,000 - 125,000'\n",
    "    elif Kms <= 150000:\n",
    "        return '125,000 - 150,000'\n",
    "    else:\n",
    "        return '150,000 - 200,000'"
   ]
  },
  {
   "cell_type": "code",
   "execution_count": 6,
   "metadata": {},
   "outputs": [],
   "source": [
    "def select_make(make):\n",
    "    driver.find_element_by_xpath('//*[@id=\"make\"]').click()\n",
    "    driver.find_element_by_xpath('//*[@id=\"make\"]/div[1]/div[2]/div/div[1]/div[1]/input').send_keys(make)\n",
    "    driver.find_element_by_xpath('//*[@id=\"option0\"]').click()\n"
   ]
  },
  {
   "cell_type": "code",
   "execution_count": 7,
   "metadata": {},
   "outputs": [],
   "source": [
    "def select_model(model):\n",
    "    driver.find_element_by_xpath('//*[@id=\"model\"]').click()\n",
    "    driver.find_element_by_xpath('//*[@id=\"model\"]/div[1]/div[2]/div/div[1]/div[1]/input').send_keys(model)\n",
    "\n",
    "    option = 0\n",
    "    looper = 0\n",
    "\n",
    "    while looper == 0 & option <7:\n",
    "\n",
    "        xpath_name = '//*[@id=\"option' + str(option) + '\"]'\n",
    "        model_text = driver.find_element_by_xpath(xpath_name).text\n",
    "        if fuzz.WRatio(model,model_text) >= 95:\n",
    "            driver.find_element_by_xpath(xpath_name).click()\n",
    "            looper=1\n",
    "\n",
    "        else:\n",
    "            option+=1\n"
   ]
  },
  {
   "cell_type": "code",
   "execution_count": 8,
   "metadata": {},
   "outputs": [],
   "source": [
    "def select_year(year):\n",
    "    \n",
    "    year = str(year)\n",
    "    \n",
    "    driver.find_element_by_xpath('//*[@id=\"year\"]').click()\n",
    "    \n",
    "    driver.find_element_by_xpath(\"//*[text()='\" + str(year) +\"']\").click()\n",
    "            "
   ]
  },
  {
   "cell_type": "code",
   "execution_count": 9,
   "metadata": {},
   "outputs": [],
   "source": [
    "def select_trim(trim):\n",
    "    \n",
    "    driver.find_element_by_xpath('//*[@id=\"trim\"]').click()\n",
    "    \n",
    "    try:\n",
    "        driver.find_element_by_xpath('//*[@id=\"trim\"]/div[1]/div[2]/div/div[1]/div[1]/input').send_keys(trim)\n",
    "\n",
    "        option = 0\n",
    "        looper = 0\n",
    "\n",
    "        while looper == 0 & option <50:\n",
    "\n",
    "            xpath_name = '//*[@id=\"option' + str(option) + '\"]'\n",
    "            trim_text = driver.find_element_by_xpath(xpath_name).text\n",
    "            if fuzz.WRatio(trim,trim_text) >= 80:\n",
    "                driver.find_element_by_xpath(xpath_name).click()\n",
    "                looper=1\n",
    "                break\n",
    "                \n",
    "            else:\n",
    "                option+=1\n",
    "            \n",
    "    except:\n",
    "                \n",
    "        text = 'NA'\n",
    "        option = 0\n",
    "        looper = 0\n",
    "        while option <7:\n",
    "            \n",
    "            xpath_name = '//*[@id=\"option' + str(option) + '\"]'\n",
    "            text = driver.find_element_by_xpath(xpath_name).text\n",
    "\n",
    "            if fuzz.WRatio(trim,text) >= 80:\n",
    "                \n",
    "                driver.find_element_by_xpath(xpath_name).click()\n",
    "                break\n",
    "                \n",
    "            else:\n",
    "                option+=1\n"
   ]
  },
  {
   "cell_type": "code",
   "execution_count": 10,
   "metadata": {},
   "outputs": [],
   "source": [
    "def select_state(state):\n",
    "    \n",
    "    driver.find_element_by_xpath('//*[@id=\"location\"]/div[1]/div/div').click()    \n",
    "    driver.find_element_by_xpath(\"//*[text()='\" + str(state) +\"']\").click()          "
   ]
  },
  {
   "cell_type": "code",
   "execution_count": 11,
   "metadata": {},
   "outputs": [],
   "source": [
    "def select_kms(odo):\n",
    "    \n",
    "    driver.find_element_by_xpath('//*[@id=\"mileage\"]').click()   \n",
    "    driver.find_element_by_xpath(\"//*[text()='\" + str(odo) +\"']\").click()"
   ]
  },
  {
   "cell_type": "code",
   "execution_count": 12,
   "metadata": {},
   "outputs": [],
   "source": [
    "def select_phone(phone):\n",
    "    \n",
    "    phone = str(phone)\n",
    "    driver.find_element_by_xpath('//*[@id=\"phone\"]/div[1]').click()\n",
    "    driver.find_element_by_xpath('//*[@id=\"phone\"]/div[1]/div/input').send_keys(phone)\n",
    "    \n",
    "    time.sleep(0.25)"
   ]
  },
  {
   "cell_type": "code",
   "execution_count": 13,
   "metadata": {},
   "outputs": [],
   "source": [
    "def fetch_info(condition):\n",
    "    \n",
    "    if condition == 'Fair':\n",
    "        i = 1\n",
    "    elif condition == 'Good':\n",
    "        i = 2\n",
    "    elif condition == 'Very_good':\n",
    "        i = 3\n",
    "    else:\n",
    "        i = 4\n",
    "        \n",
    "    driver.find_element_by_xpath('//*[@id=\"content\"]/div/div[1]/div[2]/div/div/div[1]/div[1]/div/div[1]/div/div[4]/div/button[' + str(i) +']').click()\n",
    "    \n",
    "    min_ = driver.find_element_by_xpath('//*[@id=\"content\"]/div/div[1]/div[2]/div/div/div[1]/div[1]/div/div[1]/div/div[3]/div[1]/span').text\n",
    "    max_ = driver.find_element_by_xpath('//*[@id=\"content\"]/div/div[1]/div[2]/div/div/div[1]/div[1]/div/div[1]/div/div[3]/div[2]/span').text\n",
    "    \n",
    "    return min_, max_"
   ]
  },
  {
   "cell_type": "code",
   "execution_count": 14,
   "metadata": {},
   "outputs": [],
   "source": [
    "df_mmv_means = df_mmv_means_raw.copy()\n",
    "df_mmv_means['state_name'] = df_mmv_means.state_id.apply(state_name_conv)\n",
    "df_mmv_means['Kilometers_driven'] = df_mmv_means.Kms.apply(Kms_conv)\n",
    "df[['make','model','variant']] = df.mmv.str.split(\"_\",expand=True) \n",
    "\n",
    "df_relvant_mmvyo = df_mmv_means[['make','model','year','variant','state_name','Kilometers_driven']]"
   ]
  },
  {
   "cell_type": "code",
   "execution_count": 15,
   "metadata": {},
   "outputs": [],
   "source": [
    "scrape_list = []"
   ]
  },
  {
   "cell_type": "code",
   "execution_count": null,
   "metadata": {
    "scrolled": true
   },
   "outputs": [
    {
     "name": "stdout",
     "output_type": "stream",
     "text": [
      "{'make': 'MARUTI', 'model': 'SWIFT', 'year': 2013, 'trim': 'VDI', 'state': 'Delhi', 'odo': '90,000 - 100,000', 'Fmin': '-', 'Fmax': '-', 'Gmin': '-', 'Gmax': '-', 'VGmin': '-', 'VGmax': '-', 'EXmin': '-', 'EXmax': '-'}\n",
      "{'make': 'MARUTI', 'model': 'SWIFT', 'year': 2012, 'trim': 'VDI', 'state': 'Delhi', 'odo': '100,000 - 125,000', 'Fmin': '-', 'Fmax': '-', 'Gmin': '-', 'Gmax': '-', 'VGmin': '-', 'VGmax': '-', 'EXmin': '-', 'EXmax': '-'}\n",
      "{'make': 'MARUTI', 'model': 'SWIFT', 'year': 2014, 'trim': 'VDI', 'state': 'Delhi', 'odo': '70,000 - 80,000', 'Fmin': 'Rs. 2,01,564', 'Fmax': 'Rs. 2,32,236', 'Gmin': 'Rs. 2,24,732', 'Gmax': 'Rs. 2,58,930', 'VGmin': 'Rs. 2,50,217', 'VGmax': 'Rs. 2,88,294', 'EXmin': 'Rs. 2,64,118', 'EXmax': 'Rs. 3,04,310'}\n"
     ]
    }
   ],
   "source": [
    "for index, item_ in df_relvant_mmvyo.iterrows():\n",
    "\n",
    "    try:    \n",
    "        char_set = string.ascii_uppercase + string.digits\n",
    "        PROXY = random.sample(char_set*6,6)\n",
    "        chrome_options = webdriver.ChromeOptions()\n",
    "        chrome_options.add_argument('--proxy-server=%s' % PROXY)\n",
    "        url = \"https://cashmycar.olx.in/\"\n",
    "        driver = webdriver.Chrome()\n",
    "        driver.implicitly_wait(10)\n",
    "        driver.get(url)\n",
    "        select_phone(\"9876532313\")\n",
    "        driver.find_element_by_xpath('//*[@id=\"sellingUrgency\"]').click()\n",
    "        driver.find_element_by_xpath('//*[@id=\"option3\"]').click()\n",
    "        select_make(item_[0])\n",
    "        time.sleep(1)\n",
    "        select_model(item_[1])\n",
    "        time.sleep(2)\n",
    "        select_year(item_[2])\n",
    "        time.sleep(1)\n",
    "        select_trim(item_[3])\n",
    "        time.sleep(2)\n",
    "        select_state(item_[4])\n",
    "        time.sleep(1)\n",
    "        select_kms(item_[5])\n",
    "        time.sleep(1)\n",
    "\n",
    "        driver.find_element_by_xpath('//*[@id=\"evaluation-section\"]/div/div[2]/div/div/div[2]/div/form/fieldset/button').click()\n",
    "        \n",
    "        Fmin, Fmax = fetch_info('Fair')\n",
    "        Gmin, Gmax = fetch_info('Good')\n",
    "        VGmin, VGmax = fetch_info('Very_good')\n",
    "        EXmin, EXmax = fetch_info('Exc')\n",
    "\n",
    "        scrape_dict = {'make':item_[0],\n",
    "                       'model':item_[1],\n",
    "                       'year':item_[2],\n",
    "                       'trim':item_[3],\n",
    "                       'state':item_[4],\n",
    "                       'odo':item_[5],\n",
    "                       'Fmin':Fmin,\n",
    "                       'Fmax':Fmax,\n",
    "                       'Gmin':Gmin,\n",
    "                       'Gmax':Gmax,\n",
    "                       'VGmin':VGmin,\n",
    "                       'VGmax':VGmax,\n",
    "                       'EXmin':EXmin,\n",
    "                       'EXmax':EXmax\n",
    "                      }\n",
    "    \n",
    "    except:\n",
    "        scrape_dict = {'make':item_[0],\n",
    "                       'model':item_[1],\n",
    "                       'year':item_[2],\n",
    "                       'trim':item_[3],\n",
    "                       'state':item_[4],\n",
    "                       'odo':item_[5],\n",
    "                       'Fmin':'-',\n",
    "                       'Fmax':'-',\n",
    "                       'Gmin':'-',\n",
    "                       'Gmax':'-',\n",
    "                       'VGmin':'-',\n",
    "                       'VGmax':'-',\n",
    "                       'EXmin':'-',\n",
    "                       'EXmax':'-'\n",
    "                      }\n",
    "        \n",
    "    driver.quit()\n",
    "    scrape_list.append(scrape_dict)\n",
    "    print(scrape_dict)\n",
    "    time.sleep(2)"
   ]
  },
  {
   "cell_type": "code",
   "execution_count": null,
   "metadata": {},
   "outputs": [],
   "source": [
    "pd.DataFrame(scrape_list).to_csv('olxCMC.csv')"
   ]
  },
  {
   "cell_type": "code",
   "execution_count": null,
   "metadata": {},
   "outputs": [],
   "source": [
    "scrape_list"
   ]
  },
  {
   "cell_type": "code",
   "execution_count": null,
   "metadata": {},
   "outputs": [],
   "source": []
  }
 ],
 "metadata": {
  "kernelspec": {
   "display_name": "Python 3",
   "language": "python",
   "name": "python3"
  },
  "language_info": {
   "codemirror_mode": {
    "name": "ipython",
    "version": 3
   },
   "file_extension": ".py",
   "mimetype": "text/x-python",
   "name": "python",
   "nbconvert_exporter": "python",
   "pygments_lexer": "ipython3",
   "version": "3.8.1"
  }
 },
 "nbformat": 4,
 "nbformat_minor": 2
}
